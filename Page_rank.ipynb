{
  "nbformat": 4,
  "nbformat_minor": 0,
  "metadata": {
    "colab": {
      "name": "Page rank.ipynb",
      "provenance": [],
      "collapsed_sections": []
    },
    "kernelspec": {
      "name": "python3",
      "display_name": "Python 3"
    }
  },
  "cells": [
    {
      "cell_type": "code",
      "metadata": {
        "id": "mBAy9aqQ_Ccu",
        "colab": {
          "base_uri": "https://localhost:8080/"
        },
        "outputId": "e13606f2-bc18-4d0e-9f8c-ee1ccedf6439"
      },
      "source": [
        "!pip install pyspark"
      ],
      "execution_count": null,
      "outputs": [
        {
          "output_type": "stream",
          "text": [
            "Collecting pyspark\n",
            "\u001b[?25l  Downloading https://files.pythonhosted.org/packages/f0/26/198fc8c0b98580f617cb03cb298c6056587b8f0447e20fa40c5b634ced77/pyspark-3.0.1.tar.gz (204.2MB)\n",
            "\u001b[K     |████████████████████████████████| 204.2MB 67kB/s \n",
            "\u001b[?25hCollecting py4j==0.10.9\n",
            "\u001b[?25l  Downloading https://files.pythonhosted.org/packages/9e/b6/6a4fb90cd235dc8e265a6a2067f2a2c99f0d91787f06aca4bcf7c23f3f80/py4j-0.10.9-py2.py3-none-any.whl (198kB)\n",
            "\u001b[K     |████████████████████████████████| 204kB 55.0MB/s \n",
            "\u001b[?25hBuilding wheels for collected packages: pyspark\n",
            "  Building wheel for pyspark (setup.py) ... \u001b[?25l\u001b[?25hdone\n",
            "  Created wheel for pyspark: filename=pyspark-3.0.1-py2.py3-none-any.whl size=204612243 sha256=90f7e33781f081cc8a7dac59c0315644ec1b0a8f131a75058076563f2672eb6d\n",
            "  Stored in directory: /root/.cache/pip/wheels/5e/bd/07/031766ca628adec8435bb40f0bd83bb676ce65ff4007f8e73f\n",
            "Successfully built pyspark\n",
            "Installing collected packages: py4j, pyspark\n",
            "Successfully installed py4j-0.10.9 pyspark-3.0.1\n"
          ],
          "name": "stdout"
        }
      ]
    },
    {
      "cell_type": "code",
      "metadata": {
        "id": "ThvytrgkBAPV",
        "colab": {
          "base_uri": "https://localhost:8080/"
        },
        "outputId": "e67a6c01-60bd-4276-d42e-0ea2545b4e7b"
      },
      "source": [
        "from google.colab import drive\n",
        "drive.mount('/content/drive')"
      ],
      "execution_count": null,
      "outputs": [
        {
          "output_type": "stream",
          "text": [
            "Mounted at /content/drive\n"
          ],
          "name": "stdout"
        }
      ]
    },
    {
      "cell_type": "code",
      "metadata": {
        "colab": {
          "base_uri": "https://localhost:8080/"
        },
        "id": "EO5wpboDibph",
        "outputId": "61deaaff-aef7-4f99-e355-04385c2b0dea"
      },
      "source": [
        "!pip install pyspark \n",
        "\n",
        "from pyspark import SparkContext, SparkConf \n",
        "\n",
        "sc = SparkContext(\"local\",\"spark_code\") \n",
        " \n",
        "\n",
        "data = [['A', 'History', 'Male', 84], ['D', 'Chemistry', 'Male', 63], ['E', 'History', 'Male', 99], ['B', 'Chemistry', 'male', 19], ['C', 'History', 'Female', '94'],  ['C', 'Maths', 'Female', 95], ['A', 'Maths', 'Male', 75], ['C', 'Chemistry', 'Female', 92],  ['D', 'History', 'Male', 72], ['A', 'CS', 'Male', 57], ['A', 'Biology', 'Male', 92],  ['B', 'Maths', 'Female', 92], ['D', 'Biology', 'Male', 71], ['E', 'Maths', 'Male', 82], ['E', 'CS', 'Male', 84], ['B', 'CS', 'Female', 37],  ['B', 'Biology', 'Female', 38],  ['C', 'CS', 'Female',73], ['A', 'Chemistry', 'Male', 94],  ['B', 'History', 'Female', 89], ['C', 'Biology', 'Female', 93], ['D', 'Maths', 'Male', 83], ['E', 'Chemistry', 'Male', 99], ['D', 'CS', 'Male', 74], ['E', 'Biology', 'Male', 100]] "
      ],
      "execution_count": null,
      "outputs": [
        {
          "output_type": "stream",
          "text": [
            "Requirement already satisfied: pyspark in /usr/local/lib/python3.6/dist-packages (3.0.1)\n",
            "Requirement already satisfied: py4j==0.10.9 in /usr/local/lib/python3.6/dist-packages (from pyspark) (0.10.9)\n"
          ],
          "name": "stdout"
        }
      ]
    },
    {
      "cell_type": "code",
      "metadata": {
        "id": "7v1fJgV4ifBD"
      },
      "source": [
        "rdd = sc.parallelize(data)\n",
        "rdd = rdd.map(lambda x: [x[1],(int(x[3]),1)])\n",
        "rdd = rdd.reduceByKey(lambda a,b: (a[0]+b[0],a[1]+b[1])).map(lambda x: [x[0],x[1][0]/x[1][1]])"
      ],
      "execution_count": null,
      "outputs": []
    },
    {
      "cell_type": "code",
      "metadata": {
        "colab": {
          "base_uri": "https://localhost:8080/"
        },
        "id": "oWBjTv1jj44X",
        "outputId": "9e8dede0-0dbd-4e33-8063-80016dc3f4b8"
      },
      "source": [
        "rdd.collect()"
      ],
      "execution_count": null,
      "outputs": [
        {
          "output_type": "execute_result",
          "data": {
            "text/plain": [
              "[['History', 87.6],\n",
              " ['Chemistry', 73.4],\n",
              " ['Maths', 85.4],\n",
              " ['CS', 65.0],\n",
              " ['Biology', 78.8]]"
            ]
          },
          "metadata": {
            "tags": []
          },
          "execution_count": 39
        }
      ]
    },
    {
      "cell_type": "code",
      "metadata": {
        "id": "NiC4Kvtvj35k"
      },
      "source": [
        "rdd = rdd.reduceByKey(lambda a,b: (a[0]+b[0], a[1]+b[1])).map(lambda x: [x[0],x[1][0]/x[1][1]])\n",
        "rdd = rdd.sortBy(lambda a: -a[1])"
      ],
      "execution_count": null,
      "outputs": []
    },
    {
      "cell_type": "code",
      "metadata": {
        "colab": {
          "base_uri": "https://localhost:8080/"
        },
        "id": "JBbw0epnjH3R",
        "outputId": "b78f6f7c-4b40-4743-91a1-7baa542312ae"
      },
      "source": [
        "rdd.collect()"
      ],
      "execution_count": null,
      "outputs": [
        {
          "output_type": "execute_result",
          "data": {
            "text/plain": [
              "[['Male', 87.66666666666667], ['Female', 65.5]]"
            ]
          },
          "metadata": {
            "tags": []
          },
          "execution_count": 18
        }
      ]
    },
    {
      "cell_type": "code",
      "metadata": {
        "colab": {
          "base_uri": "https://localhost:8080/"
        },
        "id": "LaBIFb23jBYz",
        "outputId": "34e2be3a-25ed-4b9d-8d8c-4ae4164cfd9d"
      },
      "source": [
        "rdd = rdd.reduceByKey(lambda a,b: (a[0]+b[0], a[1]+b[1])).map(lambda x: [x[0],x[1][0]/x[1][1]])"
      ],
      "execution_count": null,
      "outputs": [
        {
          "output_type": "execute_result",
          "data": {
            "text/plain": [
              "[['Male', 87.66666666666667], ['Female', 65.5]]"
            ]
          },
          "metadata": {
            "tags": []
          },
          "execution_count": 7
        }
      ]
    },
    {
      "cell_type": "code",
      "metadata": {
        "colab": {
          "base_uri": "https://localhost:8080/"
        },
        "id": "VN99xVDzioe1",
        "outputId": "1aeae461-98ae-43d4-cb32-355b2a72839d"
      },
      "source": [
        "rdd = rdd.sortBy(lambda a: a[1])"
      ],
      "execution_count": null,
      "outputs": [
        {
          "output_type": "execute_result",
          "data": {
            "text/plain": [
              "[['Female', 65.5], ['Male', 87.66666666666667]]"
            ]
          },
          "metadata": {
            "tags": []
          },
          "execution_count": 5
        }
      ]
    },
    {
      "cell_type": "code",
      "metadata": {
        "id": "xnb2GVLU_OOX"
      },
      "source": [
        "import sys\n",
        "import re\n",
        "from pyspark import SparkContext, SparkConf\n",
        "import numpy as np\n",
        "\n",
        "import time as time\n",
        "from operator import itemgetter"
      ],
      "execution_count": null,
      "outputs": []
    },
    {
      "cell_type": "code",
      "metadata": {
        "id": "TpNbV8dL_RIi"
      },
      "source": [
        "# create Spark context with necessary configuration\n",
        "sc = SparkContext(\"local\",\"PySpark Word Count Exmaple\")"
      ],
      "execution_count": null,
      "outputs": []
    },
    {
      "cell_type": "code",
      "metadata": {
        "id": "QqsHXEuct6sg"
      },
      "source": [
        "filepath = '/content/drive/My Drive/Coursework/CS 5683_Big_Data/Assignment-6/email-Eu-core.txt'\n",
        "links = sc.textFile(filepath)\n",
        "\n",
        "#links.repartition(32)\n",
        "\n",
        "#transpose\n",
        "links_formatted = links.map(lambda x: (int(x.split(' ')[0]),int(x.split(' ')[1])))\n",
        "links_formatted_t = links.map(lambda x: (int(x.split(' ')[1]),int(x.split(' ')[0])))\n"
      ],
      "execution_count": null,
      "outputs": []
    },
    {
      "cell_type": "code",
      "metadata": {
        "id": "9UwZBBjNuBy5",
        "colab": {
          "base_uri": "https://localhost:8080/"
        },
        "outputId": "f8851def-d1ab-4e8d-d304-37cc18237150"
      },
      "source": [
        "links_formatted_list = links_formatted.map(lambda x: (x[0],[x[1]]))\n",
        "link_formatted_dict = links_formatted_list.reduceByKey(lambda a,b: a+b)\n",
        "\n",
        "#transpose\n",
        "links_formatted_list_t = links_formatted_t.map(lambda x: (x[0],[x[1]]))\n",
        "link_formatted_dict_t = links_formatted_list_t.reduceByKey(lambda a,b: a+b)\n",
        "\n",
        "print('The number of nodes in L is ',link_formatted_dict.count())\n",
        "print('The number of nodes in L.T is ',link_formatted_dict_t.count())\n"
      ],
      "execution_count": null,
      "outputs": [
        {
          "output_type": "stream",
          "text": [
            "The number of nodes in L is  868\n",
            "The number of nodes in L.T is  991\n"
          ],
          "name": "stdout"
        }
      ]
    },
    {
      "cell_type": "code",
      "metadata": {
        "id": "Nqlp6QvHBZYF",
        "colab": {
          "base_uri": "https://localhost:8080/"
        },
        "outputId": "6e09494f-887d-43e1-db81-43a1a3995a16"
      },
      "source": [
        "hubs = links_formatted.flatMap(lambda x: x).distinct().map(lambda x: (x, 1.0))\n",
        "n_nodes = hubs.count()\n",
        "\n",
        "print('Total number of nodes is ', n_nodes)\n",
        "elements = list(np.zeros(n_nodes))\n",
        "rdd = sc.parallelize(elements)\n",
        "\n",
        "rdd = rdd.zipWithIndex()\n",
        "\n",
        "def getList(x):\n",
        "  return_list = list(np.zeros(n_nodes))\n",
        "  return return_list\n",
        "\n",
        "matRdd = rdd.map(lambda x: getList(x[0]))\n",
        "\n",
        "#transpose\n",
        "matRdd_t = rdd.map(lambda x: getList(x[0]))\n"
      ],
      "execution_count": null,
      "outputs": [
        {
          "output_type": "stream",
          "text": [
            "Total number of nodes is  1005\n"
          ],
          "name": "stdout"
        }
      ]
    },
    {
      "cell_type": "code",
      "metadata": {
        "id": "Vs4C4-pYDwe-"
      },
      "source": [
        "def getList_empty(x):\n",
        "  return_list = []\n",
        "  return return_list\n",
        "\n",
        "empty_rdd = rdd.map(lambda x: getList_empty(x[0]))\n",
        "empty_rdd = empty_rdd.zipWithIndex()\n",
        "empty_rdd = empty_rdd.map(lambda x: (x[1], x[0]))\n",
        "\n",
        "def add_two_lists(x):\n",
        "  if (x[1][0]) == None :\n",
        "    return (x[0],['A'])\n",
        "  else:\n",
        "    return (x[0],x[1][0])\n",
        "\n",
        "zip_empty = link_formatted_dict.rightOuterJoin(empty_rdd).map(lambda x: add_two_lists(x))\n",
        "zip_empty_p = zip_empty.repartition(1)\n",
        "\n",
        "#transpose\n",
        "zip_empty_t = link_formatted_dict_t.rightOuterJoin(empty_rdd).map(lambda x: add_two_lists(x))\n",
        "zip_empty_p_t = zip_empty_t.repartition(1)\n"
      ],
      "execution_count": null,
      "outputs": []
    },
    {
      "cell_type": "code",
      "metadata": {
        "id": "0IKO17quDHMj",
        "colab": {
          "base_uri": "https://localhost:8080/"
        },
        "outputId": "e4751d62-12bc-4a2f-b1fd-b9b1a7ca0950"
      },
      "source": [
        "matRdd1 = matRdd.zipWithIndex()\n",
        "matRdd_zip = matRdd1.map(lambda x: (x[1], x[0]))\n",
        "\n",
        "#transpose\n",
        "matRdd_t1 = matRdd_t.zipWithIndex()\n",
        "matRdd_t_zip = matRdd_t1.map(lambda x: (x[1], x[0]))\n",
        "\n",
        "sampleWordsRDD6 = zip_empty_p.join(matRdd_zip)\n",
        "print(sampleWordsRDD6.count())\n",
        "\n",
        "#transpose\n",
        "sampleWordsRDD6_t = zip_empty_p_t.join(matRdd_t_zip)\n",
        "print(sampleWordsRDD6_t.count())\n"
      ],
      "execution_count": null,
      "outputs": [
        {
          "output_type": "stream",
          "text": [
            "1005\n",
            "1005\n"
          ],
          "name": "stdout"
        }
      ]
    },
    {
      "cell_type": "code",
      "metadata": {
        "id": "9W9bglZ1K0_x"
      },
      "source": [
        "def form_matrix(x):\n",
        "  if x[1][0][0] == 'A':\n",
        "    l1 = [0 for i in range(n_nodes)]\n",
        "    return (x[0],l1)\n",
        "  else:\n",
        "    for k in x[1][0]:\n",
        "      x[1][1][k] = 1\n",
        "    return (x[0],x[1][1])\n",
        "\n",
        "l_matrix = sampleWordsRDD6.map(lambda x: form_matrix(x))\n",
        "\n",
        "#transpose\n",
        "l_t_matrix = sampleWordsRDD6_t.map(lambda x: form_matrix(x))"
      ],
      "execution_count": null,
      "outputs": []
    },
    {
      "cell_type": "code",
      "metadata": {
        "id": "epZfWeYVgUmf",
        "colab": {
          "base_uri": "https://localhost:8080/"
        },
        "outputId": "47ccb808-d4bd-4f55-94e5-810ea3db3f63"
      },
      "source": [
        "hubs_ones = [1 for i in range(n_nodes)]\n",
        "hubs = sc.parallelize(hubs_ones)\n",
        "hubs_updated = hubs_ones\n",
        "\n",
        "def product_sum(x):\n",
        "  if x[1][1] == None:\n",
        "    return 0\n",
        "  else:\n",
        "    return np.sum(np.array(x[1])*np.array(x[2]))\n",
        "\n",
        "start0 = time.time()\n",
        "for i in range(40):\n",
        "  start = time.time()\n",
        "\n",
        "  matrix_hubs = l_matrix.map(lambda x: (x[0],x[1],hubs_updated))\n",
        "  matrix_product_hubs = matrix_hubs.map(lambda x: product_sum(x))\n",
        "\n",
        "  auths_list = matrix_product_hubs.collect()\n",
        "  auths_max = max(auths_list)\n",
        "  auths_list = [auths_list[i]/auths_max for i in range(len(auths_list))]\n",
        "\n",
        "  matrix_t_auths = l_t_matrix.map(lambda x: (x[0],x[1],auths_list))\n",
        "  matrix_t_product_auths = matrix_t_auths.map(lambda x: product_sum(x))\n",
        "\n",
        "  hubs_updated = matrix_t_product_auths.collect()\n",
        "  hub_max = max(hubs_updated)\n",
        "  hubs_updated = [hubs_updated[i]/hub_max for i in range(len(hubs_updated))]\n",
        "\n",
        "  print(i, np.round(time.time() - start,4))\n",
        "\n",
        "print('Total time : ', np.round(time.time() - start0,4))"
      ],
      "execution_count": null,
      "outputs": [
        {
          "output_type": "stream",
          "text": [
            "0 1.2942\n",
            "1 1.3772\n",
            "2 1.3551\n",
            "3 1.3098\n",
            "4 1.4123\n",
            "5 1.4104\n",
            "6 1.296\n",
            "7 1.3519\n",
            "8 1.3559\n",
            "9 1.3616\n",
            "10 1.2615\n",
            "11 1.5256\n",
            "12 1.4017\n",
            "13 1.5182\n",
            "14 1.3605\n",
            "15 1.3615\n",
            "16 1.555\n",
            "17 1.4034\n",
            "18 1.3499\n",
            "19 1.2968\n",
            "20 1.36\n",
            "21 1.3647\n",
            "22 1.3338\n",
            "23 1.2766\n",
            "24 1.3685\n",
            "25 1.3707\n",
            "26 1.397\n",
            "27 1.3744\n",
            "28 1.3521\n",
            "29 1.312\n",
            "30 1.3334\n",
            "31 1.4049\n",
            "32 1.416\n",
            "33 1.2978\n",
            "34 1.3425\n",
            "35 1.3537\n",
            "36 1.4556\n",
            "37 1.3452\n",
            "38 1.3469\n",
            "39 1.3396\n",
            "Total time :  54.7352\n"
          ],
          "name": "stdout"
        }
      ]
    },
    {
      "cell_type": "code",
      "metadata": {
        "id": "rlCK0gKIhebP"
      },
      "source": [
        "tuple_hubs = []\n",
        "tuple_auths = []\n",
        "\n",
        "for i in range(0, n_nodes):\n",
        "  t = (i, hubs_updated[i])\n",
        "  tuple_hubs.append(t)\n",
        "\n",
        "  t = (i, auths_list[i])\n",
        "  tuple_auths.append(t)\n",
        "\n",
        "sorted_hubs_asc = sorted(tuple_hubs,key=itemgetter(1), reverse=False)\n",
        "sorted_hubs_dsc = sorted(tuple_hubs,key=itemgetter(1), reverse=True)\n",
        "\n",
        "sorted_auths_asc = sorted(tuple_auths,key=itemgetter(1), reverse=False)\n",
        "sorted_auths_dsc = sorted(tuple_auths,key=itemgetter(1), reverse=True)"
      ],
      "execution_count": null,
      "outputs": []
    },
    {
      "cell_type": "code",
      "metadata": {
        "id": "nIakrRZTxUTY",
        "colab": {
          "base_uri": "https://localhost:8080/"
        },
        "outputId": "7731008c-b4de-4ed5-a103-4b0e9eab48f7"
      },
      "source": [
        "print('Top nodes IDs with hub scores')\n",
        "for i in range(5):\n",
        "  print(\"{:<5} {:<5} {:<5} \".format(i+1, sorted_hubs_dsc[i][0], np.round(sorted_hubs_dsc[i][1],4)))"
      ],
      "execution_count": null,
      "outputs": [
        {
          "output_type": "stream",
          "text": [
            "Top nodes IDs with hub scores\n",
            "1     182   1.0   \n",
            "2     28    0.8942 \n",
            "3     543   0.8555 \n",
            "4     31    0.8101 \n",
            "5     547   0.7635 \n"
          ],
          "name": "stdout"
        }
      ]
    },
    {
      "cell_type": "code",
      "metadata": {
        "id": "bcEdNbgBwDkr",
        "colab": {
          "base_uri": "https://localhost:8080/"
        },
        "outputId": "cc25b111-3d31-4803-e692-d2e9972f11d4"
      },
      "source": [
        "print('Bottom nodes IDs with hub scores')\n",
        "for i in range(5):\n",
        "  print(\"{:<5} {:<5} {:<5} \".format(i+1, sorted_hubs_asc[i][0], np.round(sorted_hubs_asc[i][1],4)))"
      ],
      "execution_count": null,
      "outputs": [
        {
          "output_type": "stream",
          "text": [
            "Bottom nodes IDs with hub scores\n",
            "1     289   0.0   \n",
            "2     407   0.0   \n",
            "3     464   0.0   \n",
            "4     488   0.0   \n",
            "5     491   0.0   \n"
          ],
          "name": "stdout"
        }
      ]
    },
    {
      "cell_type": "code",
      "metadata": {
        "id": "2rTTx3ytwHLT",
        "colab": {
          "base_uri": "https://localhost:8080/"
        },
        "outputId": "0a2405f5-6712-4f8e-b3b8-2879b14ef658"
      },
      "source": [
        "print('Top nodes IDs with authority scores')\n",
        "for i in range(5):\n",
        "  print(\"{:<5} {:<5} {:<5} \".format(i+1, sorted_auths_dsc[i][0], np.round(sorted_auths_dsc[i][1],4)))"
      ],
      "execution_count": null,
      "outputs": [
        {
          "output_type": "stream",
          "text": [
            "Top nodes IDs with authority scores\n",
            "1     40    1.0   \n",
            "2     17    0.7598 \n",
            "3     656   0.7553 \n",
            "4     99    0.7333 \n",
            "5     629   0.6497 \n"
          ],
          "name": "stdout"
        }
      ]
    },
    {
      "cell_type": "code",
      "metadata": {
        "id": "WvJ0bvYKwJSR",
        "colab": {
          "base_uri": "https://localhost:8080/"
        },
        "outputId": "6ce85494-0546-4661-a611-72b9fe3fca12"
      },
      "source": [
        "print('Bottom nodes IDs with authority scores')\n",
        "for i in range(5):\n",
        "  print(\"{:<5} {:<5} {:<5} \".format(i+1, sorted_auths_asc[i][0], np.round(sorted_auths_asc[i][1],4)))"
      ],
      "execution_count": null,
      "outputs": [
        {
          "output_type": "stream",
          "text": [
            "Bottom nodes IDs with authority scores\n",
            "1     429   0.0   \n",
            "2     430   0.0   \n",
            "3     431   0.0   \n",
            "4     432   0.0   \n",
            "5     433   0.0   \n"
          ],
          "name": "stdout"
        }
      ]
    },
    {
      "cell_type": "code",
      "metadata": {
        "id": "QCj9sQo2wPL-"
      },
      "source": [
        ""
      ],
      "execution_count": null,
      "outputs": []
    }
  ]
}